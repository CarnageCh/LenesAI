{
 "cells": [
  {
   "cell_type": "markdown",
   "metadata": {},
   "source": [
    "Summarization Model for LenesAI\n",
    "\n",
    "(Model used is BART from hugging face)"
   ]
  },
  {
   "cell_type": "code",
   "execution_count": 1,
   "metadata": {},
   "outputs": [
    {
     "name": "stderr",
     "output_type": "stream",
     "text": [
      "C:\\Users\\Tristan Theo\\AppData\\Roaming\\Python\\Python310\\site-packages\\tqdm\\auto.py:21: TqdmWarning: IProgress not found. Please update jupyter and ipywidgets. See https://ipywidgets.readthedocs.io/en/stable/user_install.html\n",
      "  from .autonotebook import tqdm as notebook_tqdm\n"
     ]
    }
   ],
   "source": [
    "from transformers import pipeline\n",
    "import re\n",
    "from io import BytesIO\n",
    "import os\n",
    "from googletrans import Translator\n",
    "from googletrans import Translator as GoogleTranslator, LANGUAGES"
   ]
  },
  {
   "cell_type": "code",
   "execution_count": 6,
   "metadata": {},
   "outputs": [],
   "source": [
    "pipe = pipeline(\"summarization\", model=\"facebook/mbart-large-50\")"
   ]
  },
  {
   "cell_type": "markdown",
   "metadata": {},
   "source": [
    "Implementation"
   ]
  },
  {
   "cell_type": "code",
   "execution_count": 4,
   "metadata": {},
   "outputs": [],
   "source": [
    "def sumtext(input_text):\n",
    "  input_text = input_text.strip().replace(\"\\n\", \" \")\n",
    "\n",
    "  maxl=round(len(input_text)*20/100)\n",
    "  minl=round(len(input_text)*10/100)\n",
    "\n",
    "  input_text = re.sub(r'\\s+', ' ', input_text)\n",
    "  input_text = re.sub(r'[^\\x00-\\x7F]+', '', input_text)\n",
    "\n",
    "  pipe_out = pipe(\n",
    "      input_text,\n",
    "      max_length=maxl,\n",
    "      min_length=minl,\n",
    "      clean_up_tokenization_spaces=True,\n",
    "      num_beams=5,\n",
    "      no_repeat_ngram_size=2,\n",
    "      early_stopping=True\n",
    "      )\n",
    "\n",
    "  summary = pipe_out[0]['summary_text']\n",
    "  summary = re.sub(r'\\s+', ' ', summary).strip()\n",
    "\n",
    "  return summary"
   ]
  },
  {
   "cell_type": "code",
   "execution_count": 44,
   "metadata": {},
   "outputs": [],
   "source": [
    "def input_lang(language):\n",
    "    language_mapping = {\n",
    "        \"amharic\": \"am\",\n",
    "        \"arabic\": \"ar\",\n",
    "        \"basque\": \"eu\",\n",
    "        \"bengali\": \"bn\",\n",
    "        \"english (UK)\": \"en\",\n",
    "        \"portuguese (Brazil)\": \"pt\",\n",
    "        \"bulgarian\": \"bg\",\n",
    "        \"catalan\": \"ca\",\n",
    "        \"cherokee\": \"chr\",\n",
    "        \"croatian\": \"hr\",\n",
    "        \"czech\": \"cs\",\n",
    "        \"danish\": \"da\",\n",
    "        \"dutch\": \"nl\",\n",
    "        \"english (US)\": \"en\",\n",
    "        \"estonian\": \"et\",\n",
    "        \"filipino\": \"fil\",\n",
    "        \"finnish\": \"fi\",\n",
    "        \"french\": \"fr\",\n",
    "        \"german\": \"de\",\n",
    "        \"greek\": \"el\",\n",
    "        \"gujarati\": \"gu\",\n",
    "        \"hebrew\": \"iw\",\n",
    "        \"hindi\": \"hi\",\n",
    "        \"hungarian\": \"hu\",\n",
    "        \"icelandic\": \"is\",\n",
    "        \"indonesian\": \"id\",\n",
    "        \"italian\": \"it\",\n",
    "        \"japanese\": \"ja\",\n",
    "        \"kannada\": \"kn\",\n",
    "        \"korean\": \"ko\",\n",
    "        \"latvian\": \"lv\",\n",
    "        \"lithuanian\": \"lt\",\n",
    "        \"malay\": \"ms\",\n",
    "        \"malayalam\": \"ml\",\n",
    "        \"marathi\": \"mr\",\n",
    "        \"norwegian\": \"no\",\n",
    "        \"polish\": \"pl\",\n",
    "        \"portuguese (Portugal)\": \"pt\",\n",
    "        \"romanian\": \"ro\",\n",
    "        \"russian\": \"ru\",\n",
    "        \"serbian\": \"sr\",\n",
    "        \"chinese (PRC)\": \"zh-CN\",\n",
    "        \"slovak\": \"sk\",\n",
    "        \"slovenian\": \"sl\",\n",
    "        \"spanish\": \"es\",\n",
    "        \"swahili\": \"sw\",\n",
    "        \"swedish\": \"sv\",\n",
    "        \"tamil\": \"ta\",\n",
    "        \"telugu\": \"te\",\n",
    "        \"thai\": \"th\",\n",
    "        \"chinese (Taiwan)\": \"zh-TW\",\n",
    "        \"turkish\": \"tr\",\n",
    "        \"urdu\": \"ur\",\n",
    "        \"ukrainian\": \"uk\",\n",
    "        \"vietnamese\": \"vi\",\n",
    "        \"welsh\": \"cy\"\n",
    "    }\n",
    "\n",
    "    return language_mapping.get(language, \"Unknown Language\")\n"
   ]
  },
  {
   "cell_type": "code",
   "execution_count": 45,
   "metadata": {},
   "outputs": [],
   "source": [
    "def translatorss(text, user_input):\n",
    "    lang_code = input_lang(user_input.lower())\n",
    "\n",
    "    if lang_code is None:\n",
    "        print(\"Sorry, the language you entered is not supported.\")\n",
    "        return\n",
    "\n",
    "    translator = GoogleTranslator()\n",
    "    return translator.translate(text, dest=lang_code).text"
   ]
  },
  {
   "cell_type": "markdown",
   "metadata": {},
   "source": [
    "Try to print out the results"
   ]
  },
  {
   "cell_type": "code",
   "execution_count": 48,
   "metadata": {},
   "outputs": [],
   "source": [
    "input_text = \"The text you want to summarize\"\n",
    "country = \"indonesian\""
   ]
  },
  {
   "cell_type": "code",
   "execution_count": 35,
   "metadata": {},
   "outputs": [
    {
     "name": "stdout",
     "output_type": "stream",
     "text": [
      "The text you\n"
     ]
    }
   ],
   "source": [
    "summary = sumtext(input_text)\n",
    "print(summary)"
   ]
  },
  {
   "cell_type": "code",
   "execution_count": 49,
   "metadata": {},
   "outputs": [
    {
     "data": {
      "text/plain": [
       "'Teks Anda'"
      ]
     },
     "execution_count": 49,
     "metadata": {},
     "output_type": "execute_result"
    }
   ],
   "source": [
    "translatorss(summary, country)"
   ]
  }
 ],
 "metadata": {
  "kernelspec": {
   "display_name": "Python 3",
   "language": "python",
   "name": "python3"
  },
  "language_info": {
   "codemirror_mode": {
    "name": "ipython",
    "version": 3
   },
   "file_extension": ".py",
   "mimetype": "text/x-python",
   "name": "python",
   "nbconvert_exporter": "python",
   "pygments_lexer": "ipython3",
   "version": "3.10.10"
  }
 },
 "nbformat": 4,
 "nbformat_minor": 2
}
